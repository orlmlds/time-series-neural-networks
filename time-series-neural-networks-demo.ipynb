{
 "cells": [
  {
   "cell_type": "code",
   "execution_count": 1,
   "metadata": {},
   "outputs": [
    {
     "name": "stderr",
     "output_type": "stream",
     "text": [
      "Using TensorFlow backend.\n",
      "/usr/local/Cellar/python3/3.6.1/Frameworks/Python.framework/Versions/3.6/lib/python3.6/importlib/_bootstrap.py:205: RuntimeWarning: compiletime version 3.5 of module 'tensorflow.python.framework.fast_tensor_util' does not match runtime version 3.6\n",
      "  return f(*args, **kwds)\n"
     ]
    }
   ],
   "source": [
    "import math\n",
    "import random\n",
    "import numpy as np\n",
    "import matplotlib.pyplot as plt\n",
    "from datetime import datetime, timezone\n",
    "# keras\n",
    "from keras.models import Model\n",
    "from keras.models import Sequential\n",
    "from keras.layers import Dense\n",
    "from keras import layers\n"
   ]
  },
  {
   "cell_type": "code",
   "execution_count": 16,
   "metadata": {},
   "outputs": [],
   "source": [
    "# CONFIGURATION\n",
    "\n",
    "# Number of day's worth of data we will generate\n",
    "DAYS = 2.0\n",
    "# Unix timestamp of earliest metric\n",
    "START_TIME = 0.0\n",
    "# Unix timestamp of latest metric\n",
    "END_TIME = float(START_TIME + (60*1440*DAYS))\n",
    "# Period of sine wave data we'll be generating\n",
    "PERIOD_MINUTES = 720 # 12 hours\n",
    "# Amplitude of our dataset\n",
    "AMPLITUDE = 3000\n",
    "# vertical shift of the sine wave\n",
    "VSHIFT = 5000\n",
    "# The percentage of the dataset that's dedicated to training\n",
    "TRAIN_SIZE = .50\n",
    "# The number of values that should be used to predict the next one\n",
    "LOOKBACK = 1\n",
    "# How many timesteps we want to predict into the future\n",
    "LOOKAHEAD = 1\n",
    "# Whether to add gaussian noise to Y \n",
    "NOISY = True"
   ]
  },
  {
   "cell_type": "code",
   "execution_count": 17,
   "metadata": {},
   "outputs": [
    {
     "name": "stdout",
     "output_type": "stream",
     "text": [
      "X SHAPE: (2881, 1)\n",
      "--------------\n",
      "First Three Datapoints in X:\n",
      "[[  0.]\n",
      " [ 60.]\n",
      " [120.]]\n"
     ]
    }
   ],
   "source": [
    "# GENERATE X AS 2D ARRAY OF UNIX TIMESTAMPS 60 SECONDS APART\n",
    "X = np.arange(\n",
    "            start=START_TIME,\n",
    "            stop= END_TIME + 60.0,\n",
    "            step= 60.0,\n",
    "            dtype = np.float64,\n",
    "            )\n",
    "\n",
    "X = X.reshape((X.shape[0], 1))\n",
    "print(\"X SHAPE: %s\" % str(X.shape))\n",
    "print(\"--------------\")\n",
    "print (\"First Three Datapoints in X:\\n%s\" % str(X[:3]))"
   ]
  },
  {
   "cell_type": "code",
   "execution_count": 19,
   "metadata": {},
   "outputs": [
    {
     "name": "stdout",
     "output_type": "stream",
     "text": [
      "Y SHAPE: (2881, 1)\n"
     ]
    }
   ],
   "source": [
    "# GENERATE Y AS 2D ARRAY WHERE Y = sin(x)\n",
    "\n",
    "# Create Y values as sin(X)\n",
    "Y = np.zeros_like(X, dtype=np.float64)\n",
    "\n",
    "# for each value x, get sin(x)\n",
    "for i, x in enumerate(X.ravel()):    \n",
    "    B = (2 * math.pi) / (PERIOD_MINUTES * 60.0)\n",
    "    n = math.pi / 2.0\n",
    "    C = n / B\n",
    "    \n",
    "    Y[i][0] = AMPLITUDE * math.sin(B * (x - C)) + VSHIFT\n",
    "    \n",
    "    \n",
    "    \n",
    "if NOISY:\n",
    "    # create noise\n",
    "    dy = np.random.random(Y.shape)\n",
    "    # normarl (amplitude, scale)\n",
    "    noise = np.random.normal(VSHIFT, dy * AMPLITUDE * .5)\n",
    "    # add noise to the matrix\n",
    "    Y += noise\n",
    "    \n",
    "print(\"Y SHAPE: %s\" % str(Y.shape))"
   ]
  },
  {
   "cell_type": "code",
   "execution_count": 20,
   "metadata": {},
   "outputs": [
    {
     "data": {
      "image/png": "[encoded data removed]",
      "text/plain": [
       "<matplotlib.figure.Figure at 0x1209adfd0>"
      ]
     },
     "metadata": {
      "needs_background": "light"
     },
     "output_type": "display_data"
    }
   ],
   "source": [
    "# Plot the \"raw\" dataset to make sure it looks right.\n",
    "plt.plot(X, Y, 'b-')\n",
    "plt.show()"
   ]
  },
  {
   "cell_type": "code",
   "execution_count": 21,
   "metadata": {},
   "outputs": [
    {
     "name": "stdout",
     "output_type": "stream",
     "text": [
      "(1440, 1)\n",
      "(1440, 1)\n",
      "(1441, 1)\n",
      "(1441, 1)\n"
     ]
    }
   ],
   "source": [
    "# SPLIT DATA INTO TRAIN AND TEST SETS\n",
    "idx = int(X.shape[0] * TRAIN_SIZE)\n",
    "\n",
    "X_train = X[:idx]\n",
    "Y_train = Y[:idx]\n",
    "\n",
    "X_test = X[idx:]\n",
    "Y_test = Y[idx:]\n",
    "\n",
    "print(X_train.shape)\n",
    "print(Y_train.shape)\n",
    "print(X_test.shape)\n",
    "print(Y_test.shape)"
   ]
  },
  {
   "cell_type": "code",
   "execution_count": 22,
   "metadata": {},
   "outputs": [
    {
     "name": "stdout",
     "output_type": "stream",
     "text": [
      "(1439, 1)\n",
      "(1439, 1)\n",
      "----------------\n",
      "(1440, 1)\n",
      "(1440, 1)\n"
     ]
    }
   ],
   "source": [
    "# CREATE WINDOWED DATASETS (SUPERVISED DATA)\n",
    "\n",
    "def create_windowed_dataset(Y:np.array):\n",
    "    x, y = [], []\n",
    "    i = 0\n",
    "    j = (Y.shape[0] - LOOKBACK)\n",
    "    while i < j:\n",
    "        a = Y[i:(i + LOOKBACK)][0]\n",
    "        x.append(a)\n",
    "        y.append(Y[i + LOOKBACK])\n",
    "        i += 1\n",
    "\n",
    "    return np.array(x), np.array(y).reshape(len(y), 1)\n",
    "\n",
    "X_train_windowed, Y_train_windowed = create_windowed_dataset(Y_train)\n",
    "X_test_windowed, Y_test_windowed = create_windowed_dataset(Y_test)\n",
    "\n",
    "print(X_train_windowed.shape)\n",
    "print(Y_train_windowed.shape)\n",
    "print(\"----------------\")\n",
    "print(X_test_windowed.shape)\n",
    "print(Y_test_windowed.shape)\n"
   ]
  },
  {
   "cell_type": "code",
   "execution_count": 23,
   "metadata": {},
   "outputs": [
    {
     "name": "stdout",
     "output_type": "stream",
     "text": [
      "X_train_windowed shape: (1439, 1, 1)\n",
      "-----------------\n",
      "X_train_windowed first 3 rows\n",
      "[[[8545.71512213]]\n",
      "\n",
      " [[6842.63781979]]\n",
      "\n",
      " [[7363.17619156]]]\n",
      "-----------------\n",
      "X_test_windowed shape: (1440, 1, 1)\n",
      "\n"
     ]
    }
   ],
   "source": [
    "# RESHAPE X_TRAIN_AND X_TEST INTO 3D ARRAY BECAUSE \n",
    "# THE NN REQUIRES INPUTS AS (samples, timesteps, features)\n",
    "\n",
    "# reshape X_train and X_test into cube of (samples, timesteps, features)\n",
    "X_train_windowed = np.reshape(X_train_windowed, (X_train_windowed.shape[0], 1, X_train_windowed.shape[1]))\n",
    "X_test_windowed = np.reshape(X_test_windowed, (X_test_windowed.shape[0], 1, X_test_windowed.shape[1]))\n",
    "\n",
    "print(\"X_train_windowed shape: %s\" % str(X_train_windowed.shape))\n",
    "print(\"-----------------\")\n",
    "print(\"X_train_windowed first 3 rows\\n%s\" % str(X_train_windowed[:3]))\n",
    "print(\"-----------------\")\n",
    "print(\"X_test_windowed shape: %s\\n\" % str(X_test_windowed.shape))"
   ]
  },
  {
   "cell_type": "code",
   "execution_count": 24,
   "metadata": {},
   "outputs": [],
   "source": [
    "# CREATE THE LSTM NEURAL NETWORK\n",
    "model = Sequential()\n",
    "model.add(layers.LSTM(\n",
    "    50,\n",
    "    input_shape=(1, LOOKBACK),\n",
    "    activation='linear'\n",
    "))\n",
    "model.add(Dense(1))\n",
    "model.compile(loss='mean_squared_error', optimizer='adam')"
   ]
  },
  {
   "cell_type": "code",
   "execution_count": 25,
   "metadata": {},
   "outputs": [
    {
     "name": "stdout",
     "output_type": "stream",
     "text": [
      "Epoch 1/1\n",
      " - 4s - loss: 4459493.1708\n",
      "<keras.callbacks.History object at 0x1208b2860>\n"
     ]
    }
   ],
   "source": [
    "# train the LSTM network\n",
    "history = model.fit(X_train_windowed,\n",
    "                    Y_train_windowed,\n",
    "                    epochs=1,\n",
    "                    batch_size=1,\n",
    "                    verbose=2, \n",
    "                    shuffle=False\n",
    "                   )\n",
    "\n",
    "print(history)"
   ]
  },
  {
   "cell_type": "code",
   "execution_count": 26,
   "metadata": {},
   "outputs": [
    {
     "name": "stdout",
     "output_type": "stream",
     "text": [
      "(1440, 1)\n",
      "[[86460.]\n",
      " [86520.]\n",
      " [86580.]]\n",
      "-----------------\n",
      "(1440, 1)\n",
      "[[7726.80371094]\n",
      " [5748.49414062]\n",
      " [8452.17382812]]\n"
     ]
    }
   ],
   "source": [
    "# Iterate through test set and generate predictions\n",
    "\n",
    "# X_predict will be array of unix timestamps that predictions were \n",
    "# generated for\n",
    "X_predict = np.zeros((X_test.shape[0]-1, 1))\n",
    "# Y_predict are the actual Y predictions\n",
    "Y_predict = np.zeros_like(X_predict)\n",
    "\n",
    "# iterate through the test set and generate a prediction for each value\n",
    "# in the test set. Add the predicted value to the Y_predict array\n",
    "for i, x in enumerate(X_test_windowed):\n",
    "    # when we iterate through 3D array, we lose the first dimension,\n",
    "    # so we need to reshape x into 3D array that can be inputted into\n",
    "    # the model to generate a prediction\n",
    "    x = np.reshape(x, (1, LOOKBACK, 1))\n",
    "    # we need to fetch the timestamp corresponding the to prediction we're about\n",
    "    # to make. That way we can properly plot the predictions later\n",
    "    X_predict[i] = X_test[i+LOOKBACK]\n",
    "    # generate the prediction and add to Y_predict array\n",
    "    Y_predict[i][0] = model.predict(x, batch_size=1)\n",
    "    \n",
    "print(X_predict.shape)\n",
    "print(X_predict[:3])\n",
    "print(\"-----------------\")\n",
    "print(Y_predict.shape)\n",
    "print(Y_predict[:3])"
   ]
  },
  {
   "cell_type": "code",
   "execution_count": 27,
   "metadata": {},
   "outputs": [
    {
     "data": {
      "image/png": "[encoded data removed]",
      "text/plain": [
       "<matplotlib.figure.Figure at 0x1216fa9e8>"
      ]
     },
     "metadata": {
      "needs_background": "light"
     },
     "output_type": "display_data"
    }
   ],
   "source": [
    "# PLOT OUR DATASET\n",
    "plt.plot(X, Y, 'b-')\n",
    "\n",
    "plt.plot(X_predict, Y_predict, 'r-')\n",
    "plt.show()"
   ]
  }
 ],
 "metadata": {
  "kernelspec": {
   "display_name": "Python 3",
   "language": "python",
   "name": "python3"
  },
  "language_info": {
   "codemirror_mode": {
    "name": "ipython",
    "version": 3
   },
   "file_extension": ".py",
   "mimetype": "text/x-python",
   "name": "python",
   "nbconvert_exporter": "python",
   "pygments_lexer": "ipython3",
   "version": "3.6.1"
  }
 },
 "nbformat": 4,
 "nbformat_minor": 2
}
